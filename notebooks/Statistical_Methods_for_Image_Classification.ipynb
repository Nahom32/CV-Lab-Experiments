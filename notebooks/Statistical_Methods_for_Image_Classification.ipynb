{
  "nbformat": 4,
  "nbformat_minor": 0,
  "metadata": {
    "colab": {
      "provenance": [],
      "authorship_tag": "ABX9TyOl5Rnbi5sVx1GdOrauz3pF",
      "include_colab_link": true
    },
    "kernelspec": {
      "name": "python3",
      "display_name": "Python 3"
    },
    "language_info": {
      "name": "python"
    }
  },
  "cells": [
    {
      "cell_type": "markdown",
      "metadata": {
        "id": "view-in-github",
        "colab_type": "text"
      },
      "source": [
        "<a href=\"https://colab.research.google.com/github/Nahom32/CV-Lab-Experiments/blob/main/notebooks/Statistical_Methods_for_Image_Classification.ipynb\" target=\"_parent\"><img src=\"https://colab.research.google.com/assets/colab-badge.svg\" alt=\"Open In Colab\"/></a>"
      ]
    },
    {
      "cell_type": "code",
      "execution_count": 1,
      "metadata": {
        "id": "j94dB2ad-0oE"
      },
      "outputs": [],
      "source": [
        "import cv2\n",
        "import numpy as np\n",
        "import matplotlib.pyplot as plt\n",
        "from sklearn.model_selection import train_test_split\n",
        "from sklearn.metrics import classification_report, confusion_matrix, accuracy_score"
      ]
    },
    {
      "cell_type": "code",
      "source": [
        "from sklearn.datasets import load_digits\n",
        "data = load_digits()\n",
        "X = data.images\n",
        "y = data.target\n",
        "# Flatten the 8x8 images into 64 feature vectors\n",
        "n_samples = len(X)\n",
        "X = X.reshape((n_samples, -1))"
      ],
      "metadata": {
        "id": "kb5fC2egD_Bi"
      },
      "execution_count": 2,
      "outputs": []
    },
    {
      "cell_type": "code",
      "source": [
        "X_train, X_test, y_train, y_test = train_test_split(X, y, test_size=0.25, random_state=42)"
      ],
      "metadata": {
        "id": "JSvDYYGvEQIC"
      },
      "execution_count": 3,
      "outputs": []
    },
    {
      "cell_type": "code",
      "source": [
        "from sklearn.neighbors import KNeighborsClassifier\n",
        "knn = KNeighborsClassifier(n_neighbors=5)\n",
        "knn.fit(X_train, y_train)\n",
        "y_pred_knn = knn.predict(X_test)"
      ],
      "metadata": {
        "id": "pZLGxKWXEYdJ"
      },
      "execution_count": 4,
      "outputs": []
    },
    {
      "cell_type": "code",
      "source": [
        "print(\"KNN Classification Report:\")\n",
        "print(classification_report(y_test, y_pred_knn))\n",
        "print(\"KNN Confusion Matrix:\")\n",
        "print(confusion_matrix(y_test, y_pred_knn))\n",
        "print(\"KNN Accuracy\")"
      ],
      "metadata": {
        "colab": {
          "base_uri": "https://localhost:8080/"
        },
        "id": "5Pqg99IBEnQM",
        "outputId": "d82586a1-6813-4824-d795-30598922e9c4"
      },
      "execution_count": 5,
      "outputs": [
        {
          "output_type": "stream",
          "name": "stdout",
          "text": [
            "KNN Classification Report:\n",
            "              precision    recall  f1-score   support\n",
            "\n",
            "           0       1.00      1.00      1.00        43\n",
            "           1       1.00      1.00      1.00        37\n",
            "           2       1.00      1.00      1.00        38\n",
            "           3       1.00      1.00      1.00        46\n",
            "           4       0.98      1.00      0.99        55\n",
            "           5       0.98      0.98      0.98        59\n",
            "           6       1.00      1.00      1.00        45\n",
            "           7       1.00      1.00      1.00        41\n",
            "           8       1.00      1.00      1.00        38\n",
            "           9       0.98      0.96      0.97        48\n",
            "\n",
            "    accuracy                           0.99       450\n",
            "   macro avg       0.99      0.99      0.99       450\n",
            "weighted avg       0.99      0.99      0.99       450\n",
            "\n",
            "KNN Confusion Matrix:\n",
            "[[43  0  0  0  0  0  0  0  0  0]\n",
            " [ 0 37  0  0  0  0  0  0  0  0]\n",
            " [ 0  0 38  0  0  0  0  0  0  0]\n",
            " [ 0  0  0 46  0  0  0  0  0  0]\n",
            " [ 0  0  0  0 55  0  0  0  0  0]\n",
            " [ 0  0  0  0  0 58  0  0  0  1]\n",
            " [ 0  0  0  0  0  0 45  0  0  0]\n",
            " [ 0  0  0  0  0  0  0 41  0  0]\n",
            " [ 0  0  0  0  0  0  0  0 38  0]\n",
            " [ 0  0  0  0  1  1  0  0  0 46]]\n",
            "KNN Accuracy\n"
          ]
        }
      ]
    }
  ]
}