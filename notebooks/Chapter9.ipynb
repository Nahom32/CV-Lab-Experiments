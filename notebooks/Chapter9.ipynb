{
  "nbformat": 4,
  "nbformat_minor": 0,
  "metadata": {
    "colab": {
      "provenance": [],
      "authorship_tag": "ABX9TyNRg6E/nrUOFVAIrOrXMTFd",
      "include_colab_link": true
    },
    "kernelspec": {
      "name": "python3",
      "display_name": "Python 3"
    },
    "language_info": {
      "name": "python"
    }
  },
  "cells": [
    {
      "cell_type": "markdown",
      "metadata": {
        "id": "view-in-github",
        "colab_type": "text"
      },
      "source": [
        "<a href=\"https://colab.research.google.com/github/Nahom32/CV-Lab-Experiments/blob/main/notebooks/Chapter9.ipynb\" target=\"_parent\"><img src=\"https://colab.research.google.com/assets/colab-badge.svg\" alt=\"Open In Colab\"/></a>"
      ]
    },
    {
      "cell_type": "code",
      "execution_count": null,
      "metadata": {
        "id": "Lgv3xBXvMnA3"
      },
      "outputs": [],
      "source": [
        "# ===============================\n",
        "# 2.1 Face Detection with Haar Cascades\n",
        "# ===============================\n",
        "import cv2\n",
        "\n",
        "face_cascade = cv2.CascadeClassifier(\n",
        "    cv2.data.haarcascades + 'haarcascade_frontalface_default.xml'\n",
        ")\n",
        "\n",
        "img = cv2.imread('face_sample.jpg')\n",
        "gray = cv2.cvtColor(img, cv2.COLOR_BGR2GRAY)\n",
        "faces = face_cascade.detectMultiScale(gray, scaleFactor=1.1, minNeighbors=5)"
      ]
    },
    {
      "cell_type": "code",
      "source": [
        "for (x, y, w, h) in faces:\n",
        "    cv2.rectangle(img, (x, y), (x+w, y+h), (255, 0, 0), 2)\n",
        "\n",
        "cv2.imshow('Detected Faces', img)\n",
        "cv2.waitKey(0)\n",
        "cv2.destroyAllWindows()\n",
        "\n",
        "\n"
      ],
      "metadata": {
        "id": "Qz2jj9iuOCR9"
      },
      "execution_count": null,
      "outputs": []
    },
    {
      "cell_type": "code",
      "source": [
        "# ===============================\n",
        "# 3.1 Pedestrian Detection with HOG + SVM\n",
        "# ===============================\n",
        "hog = cv2.HOGDescriptor()\n",
        "hog.setSVMDetector(cv2.HOGDescriptor_getDefaultPeopleDetector())\n",
        "\n",
        "img = cv2.imread('pedestrians.jpg')\n",
        "img = cv2.resize(img, (640, 480))\n",
        "\n",
        "(rects, weights) = hog.detectMultiScale(\n",
        "    img, winStride=(8, 8), padding=(8, 8), scale=1.05\n",
        ")\n",
        "\n",
        "for (x, y, w, h) in rects:\n",
        "    cv2.rectangle(img, (x, y), (x+w, y+h), (0, 255, 0), 2)\n",
        "\n",
        "cv2.imshow('Pedestrian Detection', img)\n",
        "cv2.waitKey(0)\n",
        "cv2.destroyAllWindows()\n",
        "\n",
        "\n"
      ],
      "metadata": {
        "id": "OzjxcmEuOH6_"
      },
      "execution_count": null,
      "outputs": []
    },
    {
      "cell_type": "code",
      "source": [
        "# ===============================\n",
        "# 4. Real-Time Detection with Webcam\n",
        "# ===============================\n",
        "cap = cv2.VideoCapture(0)\n",
        "\n",
        "while True:\n",
        "    ret, frame = cap.read()\n",
        "    gray = cv2.cvtColor(frame, cv2.COLOR_BGR2GRAY)\n",
        "    faces = face_cascade.detectMultiScale(gray, 1.1, 4)\n",
        "\n",
        "    for (x, y, w, h) in faces:\n",
        "        cv2.rectangle(frame, (x, y), (x+w, y+h), (255, 0, 0), 2)\n",
        "\n",
        "    cv2.imshow('Real-Time Face Detection', frame)\n",
        "    if cv2.waitKey(1) == ord('q'):\n",
        "        break\n",
        "\n",
        "cap.release()\n",
        "cv2.destroyAllWindows()"
      ],
      "metadata": {
        "id": "VQVtx0cDORr1"
      },
      "execution_count": null,
      "outputs": []
    }
  ]
}